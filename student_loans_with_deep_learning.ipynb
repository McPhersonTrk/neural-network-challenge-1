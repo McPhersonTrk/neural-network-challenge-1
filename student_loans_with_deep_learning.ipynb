{
  "cells": [
    {
      "cell_type": "markdown",
      "metadata": {
        "id": "T7ZNhGcW6q6r"
      },
      "source": [
        "# Student Loan Risk with Deep Learning"
      ]
    },
    {
      "cell_type": "code",
      "execution_count": 118,
      "metadata": {
        "id": "0otrXpJc6q6u"
      },
      "outputs": [],
      "source": [
        "# Imports\n",
        "import pandas as pd\n",
        "import tensorflow as tf\n",
        "from tensorflow.keras.layers import Dense\n",
        "from tensorflow.keras.models import Sequential\n",
        "from sklearn.model_selection import train_test_split\n",
        "from sklearn.preprocessing import StandardScaler\n",
        "from sklearn.metrics import classification_report\n",
        "from pathlib import Path"
      ]
    },
    {
      "cell_type": "markdown",
      "metadata": {
        "id": "OpV4Y-3Z6q6w"
      },
      "source": [
        "---\n",
        "\n",
        "## Prepare the data to be used on a neural network model"
      ]
    },
    {
      "cell_type": "markdown",
      "metadata": {},
      "source": [
        "Prepare the Data for Use on a Neural Network Model (15 points)\n",
        "- Two datasets were created: a target (y) dataset, which includes the \"credit_ranking\" column, and a features (X) dataset, which includes the other columns. (5 points)\n",
        "\n",
        "- The features and target sets have been split into training and testing datasets. (5 points)\n",
        "\n",
        "- Scikit-learn's StandardScaler was used to scale the features data. (5 points)"
      ]
    },
    {
      "cell_type": "markdown",
      "metadata": {
        "id": "TUuSzp2l6q6w"
      },
      "source": [
        "### Step 1: Read the `student-loans.csv` file into a Pandas DataFrame. Review the DataFrame, looking for columns that could eventually define your features and target variables.   "
      ]
    },
    {
      "cell_type": "code",
      "execution_count": 119,
      "metadata": {
        "colab": {
          "base_uri": "https://localhost:8080/",
          "height": 226
        },
        "id": "G65km1KD6q6x",
        "outputId": "93d12d8d-c415-4017-8452-5b4966e4dde5"
      },
      "outputs": [
        {
          "data": {
            "text/html": [
              "<div>\n",
              "<style scoped>\n",
              "    .dataframe tbody tr th:only-of-type {\n",
              "        vertical-align: middle;\n",
              "    }\n",
              "\n",
              "    .dataframe tbody tr th {\n",
              "        vertical-align: top;\n",
              "    }\n",
              "\n",
              "    .dataframe thead th {\n",
              "        text-align: right;\n",
              "    }\n",
              "</style>\n",
              "<table border=\"1\" class=\"dataframe\">\n",
              "  <thead>\n",
              "    <tr style=\"text-align: right;\">\n",
              "      <th></th>\n",
              "      <th>payment_history</th>\n",
              "      <th>location_parameter</th>\n",
              "      <th>stem_degree_score</th>\n",
              "      <th>gpa_ranking</th>\n",
              "      <th>alumni_success</th>\n",
              "      <th>study_major_code</th>\n",
              "      <th>time_to_completion</th>\n",
              "      <th>finance_workshop_score</th>\n",
              "      <th>cohort_ranking</th>\n",
              "      <th>total_loan_score</th>\n",
              "      <th>financial_aid_score</th>\n",
              "      <th>credit_ranking</th>\n",
              "    </tr>\n",
              "  </thead>\n",
              "  <tbody>\n",
              "    <tr>\n",
              "      <th>0</th>\n",
              "      <td>7.4</td>\n",
              "      <td>0.70</td>\n",
              "      <td>0.00</td>\n",
              "      <td>1.9</td>\n",
              "      <td>0.076</td>\n",
              "      <td>11.0</td>\n",
              "      <td>34.0</td>\n",
              "      <td>0.9978</td>\n",
              "      <td>3.51</td>\n",
              "      <td>0.56</td>\n",
              "      <td>9.4</td>\n",
              "      <td>0</td>\n",
              "    </tr>\n",
              "    <tr>\n",
              "      <th>1</th>\n",
              "      <td>7.8</td>\n",
              "      <td>0.88</td>\n",
              "      <td>0.00</td>\n",
              "      <td>2.6</td>\n",
              "      <td>0.098</td>\n",
              "      <td>25.0</td>\n",
              "      <td>67.0</td>\n",
              "      <td>0.9968</td>\n",
              "      <td>3.20</td>\n",
              "      <td>0.68</td>\n",
              "      <td>9.8</td>\n",
              "      <td>0</td>\n",
              "    </tr>\n",
              "    <tr>\n",
              "      <th>2</th>\n",
              "      <td>7.8</td>\n",
              "      <td>0.76</td>\n",
              "      <td>0.04</td>\n",
              "      <td>2.3</td>\n",
              "      <td>0.092</td>\n",
              "      <td>15.0</td>\n",
              "      <td>54.0</td>\n",
              "      <td>0.9970</td>\n",
              "      <td>3.26</td>\n",
              "      <td>0.65</td>\n",
              "      <td>9.8</td>\n",
              "      <td>0</td>\n",
              "    </tr>\n",
              "    <tr>\n",
              "      <th>3</th>\n",
              "      <td>11.2</td>\n",
              "      <td>0.28</td>\n",
              "      <td>0.56</td>\n",
              "      <td>1.9</td>\n",
              "      <td>0.075</td>\n",
              "      <td>17.0</td>\n",
              "      <td>60.0</td>\n",
              "      <td>0.9980</td>\n",
              "      <td>3.16</td>\n",
              "      <td>0.58</td>\n",
              "      <td>9.8</td>\n",
              "      <td>1</td>\n",
              "    </tr>\n",
              "    <tr>\n",
              "      <th>4</th>\n",
              "      <td>7.4</td>\n",
              "      <td>0.70</td>\n",
              "      <td>0.00</td>\n",
              "      <td>1.9</td>\n",
              "      <td>0.076</td>\n",
              "      <td>11.0</td>\n",
              "      <td>34.0</td>\n",
              "      <td>0.9978</td>\n",
              "      <td>3.51</td>\n",
              "      <td>0.56</td>\n",
              "      <td>9.4</td>\n",
              "      <td>0</td>\n",
              "    </tr>\n",
              "  </tbody>\n",
              "</table>\n",
              "</div>"
            ],
            "text/plain": [
              "   payment_history  location_parameter  stem_degree_score  gpa_ranking  \\\n",
              "0              7.4                0.70               0.00          1.9   \n",
              "1              7.8                0.88               0.00          2.6   \n",
              "2              7.8                0.76               0.04          2.3   \n",
              "3             11.2                0.28               0.56          1.9   \n",
              "4              7.4                0.70               0.00          1.9   \n",
              "\n",
              "   alumni_success  study_major_code  time_to_completion  \\\n",
              "0           0.076              11.0                34.0   \n",
              "1           0.098              25.0                67.0   \n",
              "2           0.092              15.0                54.0   \n",
              "3           0.075              17.0                60.0   \n",
              "4           0.076              11.0                34.0   \n",
              "\n",
              "   finance_workshop_score  cohort_ranking  total_loan_score  \\\n",
              "0                  0.9978            3.51              0.56   \n",
              "1                  0.9968            3.20              0.68   \n",
              "2                  0.9970            3.26              0.65   \n",
              "3                  0.9980            3.16              0.58   \n",
              "4                  0.9978            3.51              0.56   \n",
              "\n",
              "   financial_aid_score  credit_ranking  \n",
              "0                  9.4               0  \n",
              "1                  9.8               0  \n",
              "2                  9.8               0  \n",
              "3                  9.8               1  \n",
              "4                  9.4               0  "
            ]
          },
          "execution_count": 119,
          "metadata": {},
          "output_type": "execute_result"
        }
      ],
      "source": [
        "# Read the csv into a Pandas DataFrame\n",
        "file_path = \"https://static.bc-edx.com/ai/ail-v-1-0/m18/lms/datasets/student-loans.csv\"\n",
        "loans_df = pd.read_csv(file_path)\n",
        "\n",
        "# Review the DataFrame\n",
        "loans_df.head()"
      ]
    },
    {
      "cell_type": "code",
      "execution_count": 120,
      "metadata": {
        "colab": {
          "base_uri": "https://localhost:8080/"
        },
        "id": "K8ZYB8wx6q6x",
        "outputId": "b509fc34-4488-406e-e451-2069fec37371"
      },
      "outputs": [
        {
          "data": {
            "text/plain": [
              "payment_history           float64\n",
              "location_parameter        float64\n",
              "stem_degree_score         float64\n",
              "gpa_ranking               float64\n",
              "alumni_success            float64\n",
              "study_major_code          float64\n",
              "time_to_completion        float64\n",
              "finance_workshop_score    float64\n",
              "cohort_ranking            float64\n",
              "total_loan_score          float64\n",
              "financial_aid_score       float64\n",
              "credit_ranking              int64\n",
              "dtype: object"
            ]
          },
          "execution_count": 120,
          "metadata": {},
          "output_type": "execute_result"
        }
      ],
      "source": [
        "# Review the data types associated with the columns\n",
        "loans_df.dtypes"
      ]
    },
    {
      "cell_type": "code",
      "execution_count": 121,
      "metadata": {
        "colab": {
          "base_uri": "https://localhost:8080/"
        },
        "id": "9P8aX-dW75JO",
        "outputId": "63251fa8-5ac1-4112-c2f7-bc5d97ea8491"
      },
      "outputs": [
        {
          "data": {
            "text/plain": [
              "credit_ranking\n",
              "1    855\n",
              "0    744\n",
              "Name: count, dtype: int64"
            ]
          },
          "execution_count": 121,
          "metadata": {},
          "output_type": "execute_result"
        }
      ],
      "source": [
        "# Check the credit_ranking value counts\n",
        "loans_df[\"credit_ranking\"].value_counts()"
      ]
    },
    {
      "cell_type": "markdown",
      "metadata": {
        "id": "R6vbZeDH6q6y"
      },
      "source": [
        "### Step 2: Using the preprocessed data, create the features (`X`) and target (`y`) datasets. The target dataset should be defined by the preprocessed DataFrame column “credit_ranking”. The remaining columns should define the features dataset."
      ]
    },
    {
      "cell_type": "code",
      "execution_count": 122,
      "metadata": {
        "colab": {
          "base_uri": "https://localhost:8080/"
        },
        "id": "Q5eVAP5M6q6y",
        "outputId": "89728bbf-6930-4573-a126-9f1b66ed8859"
      },
      "outputs": [
        {
          "name": "stdout",
          "output_type": "stream",
          "text": [
            "397     1\n",
            "166     0\n",
            "826     1\n",
            "1547    0\n",
            "357     1\n",
            "Name: credit_ranking, dtype: int64\n"
          ]
        }
      ],
      "source": [
        "# Define the target set y using the credit_ranking column\n",
        "y=loans_df[\"credit_ranking\"]\n",
        "\n",
        "# Display a sample of y\n",
        "print(y.sample(5))"
      ]
    },
    {
      "cell_type": "code",
      "execution_count": 123,
      "metadata": {
        "colab": {
          "base_uri": "https://localhost:8080/",
          "height": 226
        },
        "id": "IIkrD2Sn6q6z",
        "outputId": "ce07c4a3-fb81-4657-d11e-ec85ae8554c9"
      },
      "outputs": [
        {
          "data": {
            "text/html": [
              "<div>\n",
              "<style scoped>\n",
              "    .dataframe tbody tr th:only-of-type {\n",
              "        vertical-align: middle;\n",
              "    }\n",
              "\n",
              "    .dataframe tbody tr th {\n",
              "        vertical-align: top;\n",
              "    }\n",
              "\n",
              "    .dataframe thead th {\n",
              "        text-align: right;\n",
              "    }\n",
              "</style>\n",
              "<table border=\"1\" class=\"dataframe\">\n",
              "  <thead>\n",
              "    <tr style=\"text-align: right;\">\n",
              "      <th></th>\n",
              "      <th>payment_history</th>\n",
              "      <th>location_parameter</th>\n",
              "      <th>stem_degree_score</th>\n",
              "      <th>gpa_ranking</th>\n",
              "      <th>alumni_success</th>\n",
              "      <th>study_major_code</th>\n",
              "      <th>time_to_completion</th>\n",
              "      <th>finance_workshop_score</th>\n",
              "      <th>cohort_ranking</th>\n",
              "      <th>total_loan_score</th>\n",
              "      <th>financial_aid_score</th>\n",
              "    </tr>\n",
              "  </thead>\n",
              "  <tbody>\n",
              "    <tr>\n",
              "      <th>0</th>\n",
              "      <td>7.4</td>\n",
              "      <td>0.70</td>\n",
              "      <td>0.00</td>\n",
              "      <td>1.9</td>\n",
              "      <td>0.076</td>\n",
              "      <td>11.0</td>\n",
              "      <td>34.0</td>\n",
              "      <td>0.9978</td>\n",
              "      <td>3.51</td>\n",
              "      <td>0.56</td>\n",
              "      <td>9.4</td>\n",
              "    </tr>\n",
              "    <tr>\n",
              "      <th>1</th>\n",
              "      <td>7.8</td>\n",
              "      <td>0.88</td>\n",
              "      <td>0.00</td>\n",
              "      <td>2.6</td>\n",
              "      <td>0.098</td>\n",
              "      <td>25.0</td>\n",
              "      <td>67.0</td>\n",
              "      <td>0.9968</td>\n",
              "      <td>3.20</td>\n",
              "      <td>0.68</td>\n",
              "      <td>9.8</td>\n",
              "    </tr>\n",
              "    <tr>\n",
              "      <th>2</th>\n",
              "      <td>7.8</td>\n",
              "      <td>0.76</td>\n",
              "      <td>0.04</td>\n",
              "      <td>2.3</td>\n",
              "      <td>0.092</td>\n",
              "      <td>15.0</td>\n",
              "      <td>54.0</td>\n",
              "      <td>0.9970</td>\n",
              "      <td>3.26</td>\n",
              "      <td>0.65</td>\n",
              "      <td>9.8</td>\n",
              "    </tr>\n",
              "    <tr>\n",
              "      <th>3</th>\n",
              "      <td>11.2</td>\n",
              "      <td>0.28</td>\n",
              "      <td>0.56</td>\n",
              "      <td>1.9</td>\n",
              "      <td>0.075</td>\n",
              "      <td>17.0</td>\n",
              "      <td>60.0</td>\n",
              "      <td>0.9980</td>\n",
              "      <td>3.16</td>\n",
              "      <td>0.58</td>\n",
              "      <td>9.8</td>\n",
              "    </tr>\n",
              "    <tr>\n",
              "      <th>4</th>\n",
              "      <td>7.4</td>\n",
              "      <td>0.70</td>\n",
              "      <td>0.00</td>\n",
              "      <td>1.9</td>\n",
              "      <td>0.076</td>\n",
              "      <td>11.0</td>\n",
              "      <td>34.0</td>\n",
              "      <td>0.9978</td>\n",
              "      <td>3.51</td>\n",
              "      <td>0.56</td>\n",
              "      <td>9.4</td>\n",
              "    </tr>\n",
              "  </tbody>\n",
              "</table>\n",
              "</div>"
            ],
            "text/plain": [
              "   payment_history  location_parameter  stem_degree_score  gpa_ranking  \\\n",
              "0              7.4                0.70               0.00          1.9   \n",
              "1              7.8                0.88               0.00          2.6   \n",
              "2              7.8                0.76               0.04          2.3   \n",
              "3             11.2                0.28               0.56          1.9   \n",
              "4              7.4                0.70               0.00          1.9   \n",
              "\n",
              "   alumni_success  study_major_code  time_to_completion  \\\n",
              "0           0.076              11.0                34.0   \n",
              "1           0.098              25.0                67.0   \n",
              "2           0.092              15.0                54.0   \n",
              "3           0.075              17.0                60.0   \n",
              "4           0.076              11.0                34.0   \n",
              "\n",
              "   finance_workshop_score  cohort_ranking  total_loan_score  \\\n",
              "0                  0.9978            3.51              0.56   \n",
              "1                  0.9968            3.20              0.68   \n",
              "2                  0.9970            3.26              0.65   \n",
              "3                  0.9980            3.16              0.58   \n",
              "4                  0.9978            3.51              0.56   \n",
              "\n",
              "   financial_aid_score  \n",
              "0                  9.4  \n",
              "1                  9.8  \n",
              "2                  9.8  \n",
              "3                  9.8  \n",
              "4                  9.4  "
            ]
          },
          "execution_count": 123,
          "metadata": {},
          "output_type": "execute_result"
        }
      ],
      "source": [
        "# Define features set X by selecting all columns but credit_ranking\n",
        "X=loans_df.drop(columns='credit_ranking')\n",
        "\n",
        "# Review the features DataFrame\n",
        "X.head(5)"
      ]
    },
    {
      "cell_type": "markdown",
      "metadata": {
        "id": "QmM9c-tj6q6z"
      },
      "source": [
        "### Step 3: Split the features and target sets into training and testing datasets.\n"
      ]
    },
    {
      "cell_type": "code",
      "execution_count": 124,
      "metadata": {
        "id": "OD7xwU_96q6z"
      },
      "outputs": [],
      "source": [
        "#from sklearn import train_test_split\n",
        "# Split the preprocessed data into a training and testing dataset\n",
        "# Assign the function a random_state equal to 1 NOTE==> (42 is always the asnwer, but 1 is also a good choice)\n",
        "X_train, X_test, y_train, y_test = train_test_split(X, y, random_state=1)"
      ]
    },
    {
      "cell_type": "markdown",
      "metadata": {
        "id": "G9i6DHY06q6z"
      },
      "source": [
        "### Step 4: Use scikit-learn's `StandardScaler` to scale the features data."
      ]
    },
    {
      "cell_type": "code",
      "execution_count": 125,
      "metadata": {
        "id": "BzD3z20m6q6z"
      },
      "outputs": [],
      "source": [
        "# Create a StandardScaler instance\n",
        "scaler = StandardScaler()\n",
        "\n",
        "# Fit the scaler to the features training dataset\n",
        "scaler.fit(X_train)\n",
        "\n",
        "# Fit the scaler to the features training dataset\n",
        "X_train_scaled = scaler.transform(X_train)\n",
        "X_test_scaled = scaler.transform(X_test)\n"
      ]
    },
    {
      "cell_type": "markdown",
      "metadata": {
        "id": "CZzVDjba6q6z"
      },
      "source": [
        "---\n",
        "\n",
        "## Compile and Evaluate a Model Using a Neural Network"
      ]
    },
    {
      "cell_type": "markdown",
      "metadata": {
        "id": "m-pSux4Q6q60"
      },
      "source": [
        "### Step 1: Create a deep neural network by assigning the number of input features, the number of layers, and the number of neurons on each layer using Tensorflow’s Keras.\n",
        "\n",
        "> **Hint** You can start with a two-layer deep neural network model that uses the `relu` activation function for both layers.\n"
      ]
    },
    {
      "cell_type": "markdown",
      "metadata": {},
      "source": [
        "- Compile and Evaluate a Model Using a Neural Network (30 points)\n",
        "\n",
        "- A deep neural network was created with appropriate parameters. (10 points)\n",
        "\n",
        "- The model was compiled and fit using the accuracy loss function, the adam optimizer, the accuracy evaluation metric, and a small number of epochs, such as 50 or 100. (10 points)\n",
        "\n",
        "- The model was evaluated using the test data to determine its loss and accuracy. (5 points)\n",
        "\n",
        "- The model was saved and exported to a keras file named student_loans.keras. (5 points)"
      ]
    },
    {
      "cell_type": "code",
      "execution_count": 126,
      "metadata": {
        "colab": {
          "base_uri": "https://localhost:8080/"
        },
        "id": "t5C94FCd6q60",
        "outputId": "cbf05783-2f56-4745-cd33-649a6152e510"
      },
      "outputs": [
        {
          "name": "stdout",
          "output_type": "stream",
          "text": [
            "11\n"
          ]
        }
      ],
      "source": [
        "# Define the the number of inputs (features) to the model\n",
        "features_X_train= X_train.shape[1]\n",
        "\n",
        "# Review the number of features\n",
        "print(features_X_train)"
      ]
    },
    {
      "cell_type": "code",
      "execution_count": 127,
      "metadata": {
        "id": "c_KXDLkF6q60"
      },
      "outputs": [],
      "source": [
        "from tensorflow.keras.layers import Dense\n",
        "from tensorflow.keras.models import Sequential\n",
        "# Define the number of hidden nodes for the first hidden layer\n",
        "nn_model=tf.keras.models.Sequential()\n",
        "input_nodes= len(X_train.columns)\n",
        "# Define the number of hidden nodes for the second hidden layer\n",
        "hidden_node1= input_nodes\n",
        "# Define the number of neurons in the output layer\n",
        "output_node = 1"
      ]
    },
    {
      "cell_type": "code",
      "execution_count": 128,
      "metadata": {
        "id": "63UdFncw6q60"
      },
      "outputs": [],
      "source": [
        "# Create the Sequential model instance\n",
        "nn_model= Sequential([\n",
        "   # Add the first hidden layer\n",
        "   Dense(hidden_node1, activation='relu', input_dim=input_nodes,),\n",
        "   # Add the second hidden layer\n",
        "   Dense(units=6, activation='relu',),\n",
        "   # Add the output layer to the model specifying the number of output neurons and activation function\n",
        "   Dense(output_node, activation='sigmoid')])\n",
        "\n"
      ]
    },
    {
      "cell_type": "code",
      "execution_count": 129,
      "metadata": {
        "colab": {
          "base_uri": "https://localhost:8080/"
        },
        "id": "-Beoh4f_6q61",
        "outputId": "2e50f810-086b-4d89-bf7d-98afbe0d649d"
      },
      "outputs": [
        {
          "name": "stdout",
          "output_type": "stream",
          "text": [
            "Model: \"sequential_15\"\n",
            "_________________________________________________________________\n",
            " Layer (type)                Output Shape              Param #   \n",
            "=================================================================\n",
            " dense_33 (Dense)            (None, 11)                132       \n",
            "                                                                 \n",
            " dense_34 (Dense)            (None, 6)                 72        \n",
            "                                                                 \n",
            " dense_35 (Dense)            (None, 1)                 7         \n",
            "                                                                 \n",
            "=================================================================\n",
            "Total params: 211 (844.00 Byte)\n",
            "Trainable params: 211 (844.00 Byte)\n",
            "Non-trainable params: 0 (0.00 Byte)\n",
            "_________________________________________________________________\n"
          ]
        }
      ],
      "source": [
        "# Display the Sequential model summary\n",
        "nn_model.summary()"
      ]
    },
    {
      "cell_type": "markdown",
      "metadata": {
        "id": "nRqWGIRo6q61"
      },
      "source": [
        "### Step 2: Compile and fit the model using the `binary_crossentropy` loss function, the `adam` optimizer, and the `accuracy` evaluation metric.\n"
      ]
    },
    {
      "cell_type": "code",
      "execution_count": 130,
      "metadata": {
        "id": "E-hZaeSn6q61"
      },
      "outputs": [],
      "source": [
        "# Compile the Sequential model\n",
        "nn_model.compile(loss='binary_crossentropy', optimizer='adam', metrics=['accuracy'])"
      ]
    },
    {
      "cell_type": "code",
      "execution_count": 131,
      "metadata": {
        "colab": {
          "base_uri": "https://localhost:8080/"
        },
        "id": "x25e8Idc6q61",
        "outputId": "e95946ba-23da-47a3-a1c1-5e9a2a484a47"
      },
      "outputs": [
        {
          "name": "stdout",
          "output_type": "stream",
          "text": [
            "Epoch 1/50\n",
            "38/38 [==============================] - 1s 2ms/step - loss: 0.7533 - accuracy: 0.4362\n",
            "Epoch 2/50\n",
            "38/38 [==============================] - 0s 2ms/step - loss: 0.6954 - accuracy: 0.5496\n",
            "Epoch 3/50\n",
            "38/38 [==============================] - 0s 2ms/step - loss: 0.6558 - accuracy: 0.6222\n",
            "Epoch 4/50\n",
            "38/38 [==============================] - 0s 2ms/step - loss: 0.6280 - accuracy: 0.6906\n",
            "Epoch 5/50\n",
            "38/38 [==============================] - 0s 2ms/step - loss: 0.6049 - accuracy: 0.7206\n",
            "Epoch 6/50\n",
            "38/38 [==============================] - 0s 2ms/step - loss: 0.5849 - accuracy: 0.7181\n",
            "Epoch 7/50\n",
            "38/38 [==============================] - 0s 2ms/step - loss: 0.5683 - accuracy: 0.7173\n",
            "Epoch 8/50\n",
            "38/38 [==============================] - 0s 2ms/step - loss: 0.5539 - accuracy: 0.7198\n",
            "Epoch 9/50\n",
            "38/38 [==============================] - 0s 2ms/step - loss: 0.5413 - accuracy: 0.7273\n",
            "Epoch 10/50\n",
            "38/38 [==============================] - 0s 2ms/step - loss: 0.5320 - accuracy: 0.7348\n",
            "Epoch 11/50\n",
            "38/38 [==============================] - 0s 2ms/step - loss: 0.5244 - accuracy: 0.7381\n",
            "Epoch 12/50\n",
            "38/38 [==============================] - 0s 2ms/step - loss: 0.5179 - accuracy: 0.7381\n",
            "Epoch 13/50\n",
            "38/38 [==============================] - 0s 2ms/step - loss: 0.5132 - accuracy: 0.7398\n",
            "Epoch 14/50\n",
            "38/38 [==============================] - 0s 2ms/step - loss: 0.5088 - accuracy: 0.7531\n",
            "Epoch 15/50\n",
            "38/38 [==============================] - 0s 2ms/step - loss: 0.5054 - accuracy: 0.7573\n",
            "Epoch 16/50\n",
            "38/38 [==============================] - 0s 2ms/step - loss: 0.5021 - accuracy: 0.7581\n",
            "Epoch 17/50\n",
            "38/38 [==============================] - 0s 2ms/step - loss: 0.4991 - accuracy: 0.7590\n",
            "Epoch 18/50\n",
            "38/38 [==============================] - 0s 2ms/step - loss: 0.4961 - accuracy: 0.7665\n",
            "Epoch 19/50\n",
            "38/38 [==============================] - 0s 2ms/step - loss: 0.4934 - accuracy: 0.7681\n",
            "Epoch 20/50\n",
            "38/38 [==============================] - 0s 2ms/step - loss: 0.4910 - accuracy: 0.7690\n",
            "Epoch 21/50\n",
            "38/38 [==============================] - 0s 2ms/step - loss: 0.4890 - accuracy: 0.7690\n",
            "Epoch 22/50\n",
            "38/38 [==============================] - 0s 2ms/step - loss: 0.4876 - accuracy: 0.7748\n",
            "Epoch 23/50\n",
            "38/38 [==============================] - 0s 2ms/step - loss: 0.4854 - accuracy: 0.7790\n",
            "Epoch 24/50\n",
            "38/38 [==============================] - 0s 2ms/step - loss: 0.4833 - accuracy: 0.7798\n",
            "Epoch 25/50\n",
            "38/38 [==============================] - 0s 2ms/step - loss: 0.4815 - accuracy: 0.7781\n",
            "Epoch 26/50\n",
            "38/38 [==============================] - 0s 2ms/step - loss: 0.4807 - accuracy: 0.7790\n",
            "Epoch 27/50\n",
            "38/38 [==============================] - 0s 2ms/step - loss: 0.4800 - accuracy: 0.7790\n",
            "Epoch 28/50\n",
            "38/38 [==============================] - 0s 2ms/step - loss: 0.4781 - accuracy: 0.7790\n",
            "Epoch 29/50\n",
            "38/38 [==============================] - 0s 2ms/step - loss: 0.4763 - accuracy: 0.7807\n",
            "Epoch 30/50\n",
            "38/38 [==============================] - 0s 2ms/step - loss: 0.4756 - accuracy: 0.7790\n",
            "Epoch 31/50\n",
            "38/38 [==============================] - 0s 2ms/step - loss: 0.4744 - accuracy: 0.7807\n",
            "Epoch 32/50\n",
            "38/38 [==============================] - 0s 2ms/step - loss: 0.4734 - accuracy: 0.7823\n",
            "Epoch 33/50\n",
            "38/38 [==============================] - 0s 2ms/step - loss: 0.4724 - accuracy: 0.7798\n",
            "Epoch 34/50\n",
            "38/38 [==============================] - 0s 2ms/step - loss: 0.4714 - accuracy: 0.7807\n",
            "Epoch 35/50\n",
            "38/38 [==============================] - 0s 2ms/step - loss: 0.4704 - accuracy: 0.7832\n",
            "Epoch 36/50\n",
            "38/38 [==============================] - 0s 2ms/step - loss: 0.4699 - accuracy: 0.7823\n",
            "Epoch 37/50\n",
            "38/38 [==============================] - 0s 2ms/step - loss: 0.4686 - accuracy: 0.7840\n",
            "Epoch 38/50\n",
            "38/38 [==============================] - 0s 2ms/step - loss: 0.4672 - accuracy: 0.7807\n",
            "Epoch 39/50\n",
            "38/38 [==============================] - 0s 2ms/step - loss: 0.4665 - accuracy: 0.7815\n",
            "Epoch 40/50\n",
            "38/38 [==============================] - 0s 2ms/step - loss: 0.4652 - accuracy: 0.7840\n",
            "Epoch 41/50\n",
            "38/38 [==============================] - 0s 2ms/step - loss: 0.4650 - accuracy: 0.7857\n",
            "Epoch 42/50\n",
            "38/38 [==============================] - 0s 2ms/step - loss: 0.4642 - accuracy: 0.7832\n",
            "Epoch 43/50\n",
            "38/38 [==============================] - 0s 2ms/step - loss: 0.4635 - accuracy: 0.7840\n",
            "Epoch 44/50\n",
            "38/38 [==============================] - 0s 2ms/step - loss: 0.4628 - accuracy: 0.7865\n",
            "Epoch 45/50\n",
            "38/38 [==============================] - 0s 2ms/step - loss: 0.4624 - accuracy: 0.7873\n",
            "Epoch 46/50\n",
            "38/38 [==============================] - 0s 2ms/step - loss: 0.4617 - accuracy: 0.7865\n",
            "Epoch 47/50\n",
            "38/38 [==============================] - 0s 3ms/step - loss: 0.4616 - accuracy: 0.7882\n",
            "Epoch 48/50\n",
            "38/38 [==============================] - 0s 2ms/step - loss: 0.4602 - accuracy: 0.7890\n",
            "Epoch 49/50\n",
            "38/38 [==============================] - 0s 2ms/step - loss: 0.4599 - accuracy: 0.7832\n",
            "Epoch 50/50\n",
            "38/38 [==============================] - 0s 2ms/step - loss: 0.4590 - accuracy: 0.7873\n",
            "38/38 - 0s - loss: 0.4564 - accuracy: 0.7890 - 183ms/epoch - 5ms/step\n",
            "Loss:0.45643821358680725, Accuracy:0.78899085521698\n"
          ]
        }
      ],
      "source": [
        "# Fit the model using 50 epochs and the training data\n",
        "fit_nn_model= nn_model.fit(X_train_scaled, y_train, epochs=50)\n",
        "# Evaluate the model loss and accuracy metrics using the evaluate method and the test data\n",
        "nn_model_loss, nn_model_accuarcy= nn_model.evaluate(X_train_scaled, y_train, verbose=2)\n",
        "\n",
        "# Display the model loss and accuracy results\n",
        "print(f'Loss:{nn_model_loss}, Accuracy:{nn_model_accuarcy}')"
      ]
    },
    {
      "cell_type": "markdown",
      "metadata": {
        "id": "RfHMPZVI6q61"
      },
      "source": [
        "### Step 3: Evaluate the model using the test data to determine the model’s loss and accuracy.\n"
      ]
    },
    {
      "cell_type": "code",
      "execution_count": 132,
      "metadata": {},
      "outputs": [
        {
          "name": "stdout",
          "output_type": "stream",
          "text": [
            "13/13 - 0s - loss: 0.5013 - accuracy: 0.7550 - 44ms/epoch - 3ms/step\n",
            "Loss:0.5013244152069092, Accuracy:0.7549999952316284\n"
          ]
        }
      ],
      "source": [
        "# Evaluate the model loss and accuracy metrics using the evaluate method and the test data\n",
        "nn_model_loss, nn_model_accuarcy= nn_model.evaluate(X_test_scaled, y_test, verbose=2)\n",
        "\n",
        "# Display the model loss and accuracy results\n",
        "print(f'Loss:{nn_model_loss}, Accuracy:{nn_model_accuarcy}')"
      ]
    },
    {
      "cell_type": "code",
      "execution_count": 133,
      "metadata": {
        "colab": {
          "base_uri": "https://localhost:8080/"
        },
        "id": "5hfVADKo6q61",
        "outputId": "7df473ad-3301-4b49-e5c3-16e1687cc1cf"
      },
      "outputs": [
        {
          "name": "stdout",
          "output_type": "stream",
          "text": [
            "38/38 - 0s - loss: 0.4564 - accuracy: 0.7890 - 88ms/epoch - 2ms/step\n",
            "Loss:0.45643821358680725, Accuracy:0.78899085521698\n"
          ]
        }
      ],
      "source": [
        "# check for overfitting--\n",
        "nn_model_loss, nn_model_accuarcy= nn_model.evaluate(X_train_scaled, y_train, verbose=2)\n",
        "\n",
        "# Display the model loss and accuracy results\n",
        "print(f'Loss:{nn_model_loss}, Accuracy:{nn_model_accuarcy}')"
      ]
    },
    {
      "cell_type": "markdown",
      "metadata": {
        "id": "jpAv0rXA6q61"
      },
      "source": [
        "### Step 4: Save and export your model to a keras file, and name the file `student_loans.keras`.\n"
      ]
    },
    {
      "cell_type": "code",
      "execution_count": 134,
      "metadata": {
        "id": "q0MetN0W6q61"
      },
      "outputs": [],
      "source": [
        "# Set the model's file path\n",
        "file_path = Path(\"student_loan_model.keras\")\n",
        "\n",
        "# Export your model to a keras file\n",
        "nn_model.save(file_path)"
      ]
    },
    {
      "cell_type": "markdown",
      "metadata": {
        "id": "R1opCDdN6q61"
      },
      "source": [
        "---\n",
        "## Predict Loan Repayment Success by Using your Neural Network Model"
      ]
    },
    {
      "cell_type": "markdown",
      "metadata": {},
      "source": [
        "- Predict Loan Repayment Success by Using your Neural Network Model (25 points)\n",
        "- The saved model was reloaded. (5 points)\n",
        "\n",
        "- The reloaded model was used to make binary predictions on the testing data. (10 points)\n",
        "\n",
        "- A classification report is generated for the predictions and the testing data. (10 points)"
      ]
    },
    {
      "cell_type": "markdown",
      "metadata": {
        "id": "TfIfpeiy6q61"
      },
      "source": [
        "### Step 1: Reload your saved model."
      ]
    },
    {
      "cell_type": "code",
      "execution_count": 135,
      "metadata": {
        "id": "OCET2mvW6q61"
      },
      "outputs": [],
      "source": [
        "import tensorflow as tf\n",
        "# Set the model's file path\n",
        "file_path = Path(\"student_loan_model.keras\")\n",
        "\n",
        "# Load the model to a new object\n",
        "nn_model_imported= tf.keras.models.load_model(file_path)"
      ]
    },
    {
      "cell_type": "markdown",
      "metadata": {
        "id": "rTPKooGw6q61"
      },
      "source": [
        "### Step 2: Make predictions on the testing data and save the predictions to a DataFrame."
      ]
    },
    {
      "cell_type": "code",
      "execution_count": 136,
      "metadata": {
        "colab": {
          "base_uri": "https://localhost:8080/"
        },
        "id": "Vet7qjgx6q62",
        "outputId": "0925af42-7e12-4978-8396-2a2c1580e1eb"
      },
      "outputs": [
        {
          "name": "stdout",
          "output_type": "stream",
          "text": [
            "13/13 - 0s - 77ms/epoch - 6ms/step\n"
          ]
        },
        {
          "data": {
            "text/plain": [
              "array([[0.22226577],\n",
              "       [0.4211405 ],\n",
              "       [0.92311615],\n",
              "       [0.7742353 ],\n",
              "       [0.9807712 ],\n",
              "       [0.8121736 ],\n",
              "       [0.95195794],\n",
              "       [0.09522434],\n",
              "       [0.3146078 ],\n",
              "       [0.35194615],\n",
              "       [0.9074385 ],\n",
              "       [0.21698004],\n",
              "       [0.42530715],\n",
              "       [0.9508683 ],\n",
              "       [0.7236822 ],\n",
              "       [0.35589328],\n",
              "       [0.9291344 ],\n",
              "       [0.45856652],\n",
              "       [0.6638042 ],\n",
              "       [0.4243427 ],\n",
              "       [0.68802154],\n",
              "       [0.79636586],\n",
              "       [0.22635242],\n",
              "       [0.8246638 ],\n",
              "       [0.34497252],\n",
              "       [0.9626785 ],\n",
              "       [0.82528985],\n",
              "       [0.6469095 ],\n",
              "       [0.25341904],\n",
              "       [0.2714101 ],\n",
              "       [0.52609724],\n",
              "       [0.9749876 ],\n",
              "       [0.23706275],\n",
              "       [0.9739237 ],\n",
              "       [0.18546109],\n",
              "       [0.6642426 ],\n",
              "       [0.18193163],\n",
              "       [0.3765924 ],\n",
              "       [0.9810629 ],\n",
              "       [0.14070424],\n",
              "       [0.94251066],\n",
              "       [0.06083909],\n",
              "       [0.10982329],\n",
              "       [0.91905695],\n",
              "       [0.06299846],\n",
              "       [0.6860686 ],\n",
              "       [0.22012863],\n",
              "       [0.4481604 ],\n",
              "       [0.30136067],\n",
              "       [0.8626913 ],\n",
              "       [0.04385078],\n",
              "       [0.11753076],\n",
              "       [0.9085628 ],\n",
              "       [0.04873404],\n",
              "       [0.19215149],\n",
              "       [0.6923261 ],\n",
              "       [0.8691339 ],\n",
              "       [0.7192343 ],\n",
              "       [0.48070222],\n",
              "       [0.24199435],\n",
              "       [0.8986694 ],\n",
              "       [0.12340005],\n",
              "       [0.2727128 ],\n",
              "       [0.33880123],\n",
              "       [0.03742371],\n",
              "       [0.14966632],\n",
              "       [0.97699   ],\n",
              "       [0.7229728 ],\n",
              "       [0.78054345],\n",
              "       [0.96937984],\n",
              "       [0.18546109],\n",
              "       [0.956589  ],\n",
              "       [0.697015  ],\n",
              "       [0.5940227 ],\n",
              "       [0.07642557],\n",
              "       [0.3724811 ],\n",
              "       [0.95213616],\n",
              "       [0.06289193],\n",
              "       [0.15539795],\n",
              "       [0.7767254 ],\n",
              "       [0.7692819 ],\n",
              "       [0.10721902],\n",
              "       [0.08560061],\n",
              "       [0.46051154],\n",
              "       [0.6241008 ],\n",
              "       [0.09329957],\n",
              "       [0.09529839],\n",
              "       [0.8725931 ],\n",
              "       [0.30999792],\n",
              "       [0.78017   ],\n",
              "       [0.17751288],\n",
              "       [0.94762504],\n",
              "       [0.17600043],\n",
              "       [0.9534484 ],\n",
              "       [0.57344776],\n",
              "       [0.21724194],\n",
              "       [0.76604384],\n",
              "       [0.58684415],\n",
              "       [0.30887803],\n",
              "       [0.947951  ],\n",
              "       [0.5392094 ],\n",
              "       [0.2260185 ],\n",
              "       [0.244043  ],\n",
              "       [0.13186117],\n",
              "       [0.15040396],\n",
              "       [0.51454616],\n",
              "       [0.75520945],\n",
              "       [0.6398886 ],\n",
              "       [0.78830373],\n",
              "       [0.15818009],\n",
              "       [0.9886712 ],\n",
              "       [0.6803249 ],\n",
              "       [0.8198448 ],\n",
              "       [0.45176765],\n",
              "       [0.19798756],\n",
              "       [0.98880947],\n",
              "       [0.213486  ],\n",
              "       [0.07204622],\n",
              "       [0.21829888],\n",
              "       [0.2906778 ],\n",
              "       [0.07017692],\n",
              "       [0.9774739 ],\n",
              "       [0.92618227],\n",
              "       [0.16533116],\n",
              "       [0.22488762],\n",
              "       [0.45544145],\n",
              "       [0.6958843 ],\n",
              "       [0.22010936],\n",
              "       [0.4382475 ],\n",
              "       [0.7775736 ],\n",
              "       [0.24707296],\n",
              "       [0.2628028 ],\n",
              "       [0.9765325 ],\n",
              "       [0.10375032],\n",
              "       [0.85903424],\n",
              "       [0.7902934 ],\n",
              "       [0.11473498],\n",
              "       [0.96139604],\n",
              "       [0.27065122],\n",
              "       [0.32599214],\n",
              "       [0.28065068],\n",
              "       [0.49379322],\n",
              "       [0.65768415],\n",
              "       [0.14498553],\n",
              "       [0.78746027],\n",
              "       [0.9357758 ],\n",
              "       [0.502065  ],\n",
              "       [0.06280462],\n",
              "       [0.77398664],\n",
              "       [0.88626176],\n",
              "       [0.42499533],\n",
              "       [0.9825688 ],\n",
              "       [0.20751962],\n",
              "       [0.25755468],\n",
              "       [0.85750383],\n",
              "       [0.87363726],\n",
              "       [0.9270341 ],\n",
              "       [0.95798635],\n",
              "       [0.77005357],\n",
              "       [0.52593046],\n",
              "       [0.8318853 ],\n",
              "       [0.59842217],\n",
              "       [0.279413  ],\n",
              "       [0.10915151],\n",
              "       [0.9719177 ],\n",
              "       [0.87142915],\n",
              "       [0.36590913],\n",
              "       [0.10369158],\n",
              "       [0.1241149 ],\n",
              "       [0.7834784 ],\n",
              "       [0.28982186],\n",
              "       [0.8235969 ],\n",
              "       [0.21712945],\n",
              "       [0.3663017 ],\n",
              "       [0.9159141 ],\n",
              "       [0.3187917 ],\n",
              "       [0.38654017],\n",
              "       [0.23103443],\n",
              "       [0.46739948],\n",
              "       [0.21724194],\n",
              "       [0.63470495],\n",
              "       [0.74167454],\n",
              "       [0.43646497],\n",
              "       [0.19115734],\n",
              "       [0.9774909 ],\n",
              "       [0.99714136],\n",
              "       [0.9528339 ],\n",
              "       [0.35586053],\n",
              "       [0.23147584],\n",
              "       [0.14975867],\n",
              "       [0.38669217],\n",
              "       [0.6626003 ],\n",
              "       [0.36735165],\n",
              "       [0.2714718 ],\n",
              "       [0.79684   ],\n",
              "       [0.31733128],\n",
              "       [0.6021548 ],\n",
              "       [0.1161857 ],\n",
              "       [0.1568381 ],\n",
              "       [0.26678136],\n",
              "       [0.95591086],\n",
              "       [0.39811534],\n",
              "       [0.82312334],\n",
              "       [0.16750303],\n",
              "       [0.98234457],\n",
              "       [0.68240213],\n",
              "       [0.22076555],\n",
              "       [0.11198681],\n",
              "       [0.9811831 ],\n",
              "       [0.58097243],\n",
              "       [0.53281057],\n",
              "       [0.7333527 ],\n",
              "       [0.244043  ],\n",
              "       [0.94256735],\n",
              "       [0.23503481],\n",
              "       [0.16126245],\n",
              "       [0.12345573],\n",
              "       [0.15305221],\n",
              "       [0.76202583],\n",
              "       [0.6012167 ],\n",
              "       [0.5967793 ],\n",
              "       [0.24357735],\n",
              "       [0.19974214],\n",
              "       [0.3078918 ],\n",
              "       [0.7485025 ],\n",
              "       [0.67102814],\n",
              "       [0.3869799 ],\n",
              "       [0.6363666 ],\n",
              "       [0.9825558 ],\n",
              "       [0.80859727],\n",
              "       [0.32997757],\n",
              "       [0.2784501 ],\n",
              "       [0.9338667 ],\n",
              "       [0.9695324 ],\n",
              "       [0.22517094],\n",
              "       [0.17742142],\n",
              "       [0.95772547],\n",
              "       [0.23112658],\n",
              "       [0.2058004 ],\n",
              "       [0.38905677],\n",
              "       [0.90338224],\n",
              "       [0.8978013 ],\n",
              "       [0.5418099 ],\n",
              "       [0.48290873],\n",
              "       [0.46728578],\n",
              "       [0.9808704 ],\n",
              "       [0.8194917 ],\n",
              "       [0.34022668],\n",
              "       [0.14174932],\n",
              "       [0.24302325],\n",
              "       [0.19914308],\n",
              "       [0.23949789],\n",
              "       [0.9754577 ],\n",
              "       [0.8396288 ],\n",
              "       [0.9528271 ],\n",
              "       [0.34667823],\n",
              "       [0.18268706],\n",
              "       [0.08912802],\n",
              "       [0.39370936],\n",
              "       [0.65402716],\n",
              "       [0.72513473],\n",
              "       [0.13178065],\n",
              "       [0.6065352 ],\n",
              "       [0.5379518 ],\n",
              "       [0.3220929 ],\n",
              "       [0.77398664],\n",
              "       [0.7591558 ],\n",
              "       [0.12022002],\n",
              "       [0.2422293 ],\n",
              "       [0.8905149 ],\n",
              "       [0.21782708],\n",
              "       [0.76485544],\n",
              "       [0.14667962],\n",
              "       [0.9705366 ],\n",
              "       [0.11312868],\n",
              "       [0.73417807],\n",
              "       [0.2664857 ],\n",
              "       [0.8235969 ],\n",
              "       [0.4708202 ],\n",
              "       [0.23416576],\n",
              "       [0.98196   ],\n",
              "       [0.6900353 ],\n",
              "       [0.48943228],\n",
              "       [0.04725699],\n",
              "       [0.21167755],\n",
              "       [0.69786114],\n",
              "       [0.41926914],\n",
              "       [0.1077211 ],\n",
              "       [0.16663457],\n",
              "       [0.6854455 ],\n",
              "       [0.4719892 ],\n",
              "       [0.9291344 ],\n",
              "       [0.6527839 ],\n",
              "       [0.65947926],\n",
              "       [0.9195928 ],\n",
              "       [0.9252967 ],\n",
              "       [0.19065922],\n",
              "       [0.96281826],\n",
              "       [0.1301211 ],\n",
              "       [0.13882099],\n",
              "       [0.51834697],\n",
              "       [0.8959775 ],\n",
              "       [0.12897544],\n",
              "       [0.703819  ],\n",
              "       [0.33169913],\n",
              "       [0.6184912 ],\n",
              "       [0.11267735],\n",
              "       [0.9552645 ],\n",
              "       [0.45133427],\n",
              "       [0.08318465],\n",
              "       [0.1558566 ],\n",
              "       [0.61323535],\n",
              "       [0.18013497],\n",
              "       [0.8605341 ],\n",
              "       [0.7744165 ],\n",
              "       [0.6719656 ],\n",
              "       [0.16828644],\n",
              "       [0.2540769 ],\n",
              "       [0.9717577 ],\n",
              "       [0.95772547],\n",
              "       [0.4065065 ],\n",
              "       [0.6423337 ],\n",
              "       [0.9968861 ],\n",
              "       [0.19354644],\n",
              "       [0.31733128],\n",
              "       [0.43192706],\n",
              "       [0.11846579],\n",
              "       [0.98887277],\n",
              "       [0.81982046],\n",
              "       [0.40142387],\n",
              "       [0.93760186],\n",
              "       [0.16783985],\n",
              "       [0.4833247 ],\n",
              "       [0.27137253],\n",
              "       [0.5498577 ],\n",
              "       [0.16218953],\n",
              "       [0.9395725 ],\n",
              "       [0.94256735],\n",
              "       [0.14212136],\n",
              "       [0.61185724],\n",
              "       [0.2285493 ],\n",
              "       [0.22426282],\n",
              "       [0.66247636],\n",
              "       [0.68149173],\n",
              "       [0.28485736],\n",
              "       [0.99252385],\n",
              "       [0.72729415],\n",
              "       [0.11881055],\n",
              "       [0.20050429],\n",
              "       [0.442148  ],\n",
              "       [0.7333527 ],\n",
              "       [0.9867168 ],\n",
              "       [0.43868047],\n",
              "       [0.76807904],\n",
              "       [0.49849394],\n",
              "       [0.21053626],\n",
              "       [0.9873348 ],\n",
              "       [0.9508683 ],\n",
              "       [0.11473498],\n",
              "       [0.10710496],\n",
              "       [0.2745036 ],\n",
              "       [0.92830443],\n",
              "       [0.16135117],\n",
              "       [0.9719967 ],\n",
              "       [0.3183079 ],\n",
              "       [0.15644445],\n",
              "       [0.4111815 ],\n",
              "       [0.239148  ],\n",
              "       [0.76981974],\n",
              "       [0.17742142],\n",
              "       [0.39576364],\n",
              "       [0.67692477],\n",
              "       [0.33796784],\n",
              "       [0.2566167 ],\n",
              "       [0.14598756],\n",
              "       [0.64294237],\n",
              "       [0.9942889 ],\n",
              "       [0.98755777],\n",
              "       [0.16126245],\n",
              "       [0.845116  ],\n",
              "       [0.9365865 ],\n",
              "       [0.8293647 ],\n",
              "       [0.8528455 ],\n",
              "       [0.85510516],\n",
              "       [0.45839956],\n",
              "       [0.93804574],\n",
              "       [0.11639041],\n",
              "       [0.5405551 ],\n",
              "       [0.80922574],\n",
              "       [0.5834688 ],\n",
              "       [0.3652782 ],\n",
              "       [0.315251  ],\n",
              "       [0.323971  ],\n",
              "       [0.9171881 ],\n",
              "       [0.15890455],\n",
              "       [0.7308983 ],\n",
              "       [0.30999792],\n",
              "       [0.9338667 ],\n",
              "       [0.23098926],\n",
              "       [0.566923  ]], dtype=float32)"
            ]
          },
          "execution_count": 136,
          "metadata": {},
          "output_type": "execute_result"
        }
      ],
      "source": [
        "# Make predictions with the test data\n",
        "predictions= nn_model_imported.predict(X_test_scaled, verbose=2)\n",
        "\n",
        "# Display a sample of the predictions\n",
        "predictions"
      ]
    },
    {
      "cell_type": "code",
      "execution_count": 137,
      "metadata": {
        "colab": {
          "base_uri": "https://localhost:8080/",
          "height": 424
        },
        "id": "87o8exFPhjfl",
        "outputId": "da5339c5-cea7-43e4-ec22-e168ea16dfa2"
      },
      "outputs": [
        {
          "data": {
            "text/html": [
              "<div>\n",
              "<style scoped>\n",
              "    .dataframe tbody tr th:only-of-type {\n",
              "        vertical-align: middle;\n",
              "    }\n",
              "\n",
              "    .dataframe tbody tr th {\n",
              "        vertical-align: top;\n",
              "    }\n",
              "\n",
              "    .dataframe thead th {\n",
              "        text-align: right;\n",
              "    }\n",
              "</style>\n",
              "<table border=\"1\" class=\"dataframe\">\n",
              "  <thead>\n",
              "    <tr style=\"text-align: right;\">\n",
              "      <th></th>\n",
              "      <th>Predictions</th>\n",
              "    </tr>\n",
              "  </thead>\n",
              "  <tbody>\n",
              "    <tr>\n",
              "      <th>0</th>\n",
              "      <td>0.0</td>\n",
              "    </tr>\n",
              "    <tr>\n",
              "      <th>1</th>\n",
              "      <td>0.0</td>\n",
              "    </tr>\n",
              "    <tr>\n",
              "      <th>2</th>\n",
              "      <td>1.0</td>\n",
              "    </tr>\n",
              "    <tr>\n",
              "      <th>3</th>\n",
              "      <td>1.0</td>\n",
              "    </tr>\n",
              "    <tr>\n",
              "      <th>4</th>\n",
              "      <td>1.0</td>\n",
              "    </tr>\n",
              "    <tr>\n",
              "      <th>...</th>\n",
              "      <td>...</td>\n",
              "    </tr>\n",
              "    <tr>\n",
              "      <th>395</th>\n",
              "      <td>1.0</td>\n",
              "    </tr>\n",
              "    <tr>\n",
              "      <th>396</th>\n",
              "      <td>0.0</td>\n",
              "    </tr>\n",
              "    <tr>\n",
              "      <th>397</th>\n",
              "      <td>1.0</td>\n",
              "    </tr>\n",
              "    <tr>\n",
              "      <th>398</th>\n",
              "      <td>0.0</td>\n",
              "    </tr>\n",
              "    <tr>\n",
              "      <th>399</th>\n",
              "      <td>1.0</td>\n",
              "    </tr>\n",
              "  </tbody>\n",
              "</table>\n",
              "<p>400 rows × 1 columns</p>\n",
              "</div>"
            ],
            "text/plain": [
              "     Predictions\n",
              "0            0.0\n",
              "1            0.0\n",
              "2            1.0\n",
              "3            1.0\n",
              "4            1.0\n",
              "..           ...\n",
              "395          1.0\n",
              "396          0.0\n",
              "397          1.0\n",
              "398          0.0\n",
              "399          1.0\n",
              "\n",
              "[400 rows x 1 columns]"
            ]
          },
          "execution_count": 137,
          "metadata": {},
          "output_type": "execute_result"
        }
      ],
      "source": [
        "# Save the predictions to a DataFrame and round the predictions to binary results\n",
        "predictions_df=pd.DataFrame(columns=[\"Predictions\"], data=predictions)\n",
        "predictions_df['Predictions']= round(predictions_df['Predictions'], 0)\n",
        "predictions_df "
      ]
    },
    {
      "cell_type": "markdown",
      "metadata": {
        "id": "oxxLwycg6q62"
      },
      "source": [
        "### Step 4: Display a classification report with the y test data and predictions"
      ]
    },
    {
      "cell_type": "code",
      "execution_count": 138,
      "metadata": {
        "colab": {
          "base_uri": "https://localhost:8080/"
        },
        "id": "UTxYZibW6q67",
        "outputId": "f341b396-9b4c-478c-dba8-f6d904ba10e3"
      },
      "outputs": [
        {
          "name": "stdout",
          "output_type": "stream",
          "text": [
            "              precision    recall  f1-score   support\n",
            "\n",
            "           0       0.72      0.79      0.75       188\n",
            "           1       0.80      0.72      0.76       212\n",
            "\n",
            "    accuracy                           0.76       400\n",
            "   macro avg       0.76      0.76      0.75       400\n",
            "weighted avg       0.76      0.76      0.76       400\n",
            "\n"
          ]
        }
      ],
      "source": [
        "# Print the classification report with the y test data and predictions\n",
        "print(classification_report(y_test, predictions_df,))"
      ]
    },
    {
      "cell_type": "markdown",
      "metadata": {
        "id": "8Aaof1tBtcp6"
      },
      "source": [
        "---\n",
        "## Discuss creating a recommendation system for student loans"
      ]
    },
    {
      "cell_type": "markdown",
      "metadata": {
        "id": "_CC8cNpNtcp6"
      },
      "source": [
        "Briefly answer the following questions in the space provided:\n",
        "\n",
        "1. Describe the data that you would need to collect to build a recommendation system to recommend student loan options for students. Explain why this data would be relevant and appropriate.\n",
        "\n",
        "2. Based on the data you chose to use in this recommendation system, would your model be using collaborative filtering, content-based filtering, or context-based filtering? Justify why the data you selected would be suitable for your choice of filtering method.\n",
        "\n",
        "3. Describe two real-world challenges that you would take into consideration while building a recommendation system for student loans. Explain why these challenges would be of concern for a student loan recommendation system."
      ]
    },
    {
      "cell_type": "markdown",
      "metadata": {
        "id": "5KqIT8kYtcp6"
      },
      "source": [
        "**1. Describe the data that you would need to collect to build a recommendation system to recommend student loan options for students. Explain why this data would be relevant and appropriate.**\n",
        "- The response describes the data that should be collected to build a recommendation system for student loan options. (4 points)\n",
        "- The response explains why they think that data should be collected. (4 points)\n",
        "- The type of data described is appropriate for a recommendation system for student loan options. (2 points)\n",
        "\n",
        "\n",
        "\n",
        "\n"
      ]
    },
    {
      "cell_type": "code",
      "execution_count": 139,
      "metadata": {},
      "outputs": [],
      "source": [
        "# Answer:\n",
        "# In order to build a loan recomendation model that would find the best financing options, the following data would be required:\n",
        "########\n",
        "# 1. Financial Information:\n",
        "#   - Monthly Income\n",
        "#   - Monthly Expenses\n",
        "#   - Credit Score\n",
        "#   - Credit History\n",
        "#   - Cash on hand\n",
        "#   - Family contribution\n",
        "#   - Do the have a cosignor?\n",
        "########\n",
        "# 2. Career Goals:\n",
        "#   - Career Field\n",
        "#   - Salary demographics for that field/industry\n",
        "#   - Expected Value of fututre earnings\n",
        "#   - Probability of graduation\n",
        "########\n",
        "# 3. Loan Information for each type of loan:\n",
        "#   - Interest rate\n",
        "#   - Repayment term\n",
        "#   - Loan fees\n",
        "#   - Loan forgiveness, forebarence, deferment and hardship options\n",
        "#   - Loan limits\n",
        "#   - Loan subsidy availability\n",
        "#   - Loan servicer\n",
        "#   - Consolidation and refinancing options\n",
        "########\n",
        "# part 1 of this data set provides a clear picture of the student's financial capabilities now.\n",
        "# part 2 of this data set provides a a method to predict future earnings, their ability to repay the loans vetted against the probability of graduation.\n",
        "# part 3 of this data set provides the loan options available to the student. where the best options mitigate risk to the lender\n",
        "#   while granting some releief to the student if they are unable to repay the loan.\n"
      ]
    },
    {
      "cell_type": "markdown",
      "metadata": {},
      "source": [
        "\n",
        "**2. Based on the data you chose to use in this recommendation system, would your model be using collaborative filtering, content-based filtering, or context-based filtering? Justify why the data you selected would be suitable for your choice of filtering method.**\n",
        "- The response chose a filtering method. (4 points)\n",
        "- The student justified the choice of their filtering method. (4 points)\n",
        "- The choice of filtering method was appropriate for the data selected in the previous question. (2 points)\n",
        "\n"
      ]
    },
    {
      "cell_type": "code",
      "execution_count": 140,
      "metadata": {},
      "outputs": [],
      "source": [
        "# Answer:\n",
        "# This model would use context-based filtering to recommend the best loan options to the student.\n",
        "# The collection of these data points would allow the model to provide a highly individualized recommendation to the student, based \n",
        "# on their specific financial situation, lending needs and vettes it against the future potential of their career goals. \n",
        "# \n",
        "# The other two filtering methods would not be efficient choices because their recommendations are not based on the individual's specific needs and goals,\n",
        "# but rather collaborative filterng finds patterns within the data, and content-based filtering is more for movie, music and book recomendations."
      ]
    },
    {
      "cell_type": "markdown",
      "metadata": {},
      "source": [
        "**3. Describe two real-world challenges that you would take into consideration while building a recommendation system for student loans. Explain why these challenges would be of concern for a student loan recommendation system.**\n",
        "- The response lists two real-world challenges with building a recommendation system for student loans. (4 points)\n",
        "- The response explains why these challenges would be of concern for a student loan recommendation system. (6 points)"
      ]
    },
    {
      "cell_type": "code",
      "execution_count": 141,
      "metadata": {},
      "outputs": [],
      "source": [
        "#Answer:\n",
        "# Due to the nature of the data within the dataset, there would be a number of considerations to take inta account.\n",
        "# First, bias in the data based on some factor in the users profile, such as cash on hand, availability of a copsignitor and family contribution\n",
        "# might create a negative-bias against people of color and lower income families.\n",
        "# \n",
        "# Secondly, security of the dataset should be a big concern. there is a very real risk when compiling such a large amount of personal and financial\n",
        "# information in one location. the dataset would be of high value to those looking to steal identities or commit fraud."
      ]
    }
  ],
  "metadata": {
    "colab": {
      "provenance": []
    },
    "kernelspec": {
      "display_name": "Python 3 (ipykernel)",
      "language": "python",
      "name": "python3"
    },
    "language_info": {
      "codemirror_mode": {
        "name": "ipython",
        "version": 3
      },
      "file_extension": ".py",
      "mimetype": "text/x-python",
      "name": "python",
      "nbconvert_exporter": "python",
      "pygments_lexer": "ipython3",
      "version": "3.11.5"
    }
  },
  "nbformat": 4,
  "nbformat_minor": 0
}
